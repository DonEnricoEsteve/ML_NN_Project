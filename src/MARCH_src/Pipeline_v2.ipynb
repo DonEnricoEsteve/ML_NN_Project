{
 "cells": [
  {
   "cell_type": "code",
   "execution_count": 13,
   "metadata": {},
   "outputs": [],
   "source": [
    "import mne\n",
    "import numpy as np\n",
    "from pathlib import Path"
   ]
  },
  {
   "cell_type": "code",
   "execution_count": null,
   "metadata": {},
   "outputs": [],
   "source": [
    "# ['food/short/rep1', 'food/medium/rep1', 'food/long/rep1', \n",
    "# 'food/short/rep2', 'food/medium/rep2', 'food/long/rep2', \n",
    "# 'positive/short/rep1', 'positive/medium/rep1', 'positive/long/rep1', \n",
    "# 'positive/short/rep2', 'positive/medium/rep2', 'positive/long/rep2', \n",
    "# 'neutral/short/rep1', 'neutral/medium/rep1', 'neutral/long/rep1', \n",
    "# 'neutral/short/rep2', 'neutral/medium/rep2', 'neutral/long/rep2']"
   ]
  },
  {
   "cell_type": "code",
   "execution_count": 6,
   "metadata": {},
   "outputs": [],
   "source": [
    "wd = \"Z:\\Don\\ML_Project\\MARCH_ANALYSIS\"\n",
    "fif_directory = \"Z:\\Don\\ML_Project\\Evoked_fif\"\n",
    "npy_directory = f\"{wd}/NEW_npys/BL_orig\"\n",
    "tmin = -0.3\n",
    "tmax = 0"
   ]
  },
  {
   "cell_type": "code",
   "execution_count": null,
   "metadata": {},
   "outputs": [],
   "source": [
    "# Get a list of all subject files and saving folders\n",
    "subject_files = sorted(Path(fif_directory).glob(\"sub*\"))\n",
    "save_folders = sorted(Path(npy_directory).glob(\"sub*\"))\n",
    "\n",
    "# Ensure the lengths match before iterating\n",
    "if len(subject_files) != len(save_folders):\n",
    "    print(f\"Error: The number of files and saving directories do not match.\")\n",
    "\n",
    "# Process each subject's data\n",
    "for file, saving_folder in zip(subject_files, save_folders):\n",
    "    # Create instance of Epochs class\n",
    "    epochs = mne.read_epochs(file)\n",
    "    epochs_toi = epochs.crop(tmin=tmin, tmax=tmax)\n",
    "\n",
    "    # Get list of conditions and replace slashes with underscores in the conditions list\n",
    "    conditions = list(epochs_toi.event_id.keys())\n",
    "    conditions_for_saving = [condition.replace('/', '_') for condition in conditions]\n",
    "\n",
    "    # Iterate over conditions\n",
    "    for condition, condition_for_saving in zip(conditions, conditions_for_saving):\n",
    "        # Select epochs for the current condition\n",
    "        condition_epochs = epochs_toi[condition]\n",
    "        \n",
    "        # Convert the epochs to a numpy array (data)\n",
    "        condition_data = condition_epochs.get_data()  # shape: (n_epochs, n_channels, n_times)\n",
    "\n",
    "        # Create a file path for saving the numpy array\n",
    "        save_path = saving_folder / f\"{condition_for_saving}.npy\"\n",
    "        \n",
    "        # Save the condition data as a .npy file\n",
    "        np.save(save_path, condition_data)\n",
    "\n",
    "        print(f\"Saved {condition_for_saving} data for {file.stem} to {save_path}\")"
   ]
  },
  {
   "cell_type": "code",
   "execution_count": null,
   "metadata": {},
   "outputs": [
    {
     "data": {
      "text/plain": [
       "(45, 246)"
      ]
     },
     "execution_count": 15,
     "metadata": {},
     "output_type": "execute_result"
    }
   ],
   "source": [
    "data = np.load(\"Z:/Don/ML_Project/MARCH_ANALYSIS/NEW_npys/10PT/M100_Evoked_PPC/sub_054/pres_2_dec_pseudo_PCA.npy\")\n",
    "data.shape"
   ]
  },
  {
   "cell_type": "code",
   "execution_count": null,
   "metadata": {},
   "outputs": [],
   "source": []
  }
 ],
 "metadata": {
  "kernelspec": {
   "display_name": "DS_venv",
   "language": "python",
   "name": "python3"
  },
  "language_info": {
   "codemirror_mode": {
    "name": "ipython",
    "version": 3
   },
   "file_extension": ".py",
   "mimetype": "text/x-python",
   "name": "python",
   "nbconvert_exporter": "python",
   "pygments_lexer": "ipython3",
   "version": "3.11.9"
  }
 },
 "nbformat": 4,
 "nbformat_minor": 2
}
